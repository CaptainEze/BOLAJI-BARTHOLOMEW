{
 "cells": [
  {
   "cell_type": "code",
   "execution_count": null,
   "id": "eb6f2743",
   "metadata": {},
   "outputs": [],
   "source": [
    "import numpy as np\n",
    "import pandas as pd\n",
    "import matplotlib.pyplot as plt\n",
    "import seaborn as sns\n",
    "from math import pi\n",
    "import os\n",
    "\n",
    "\n",
    "RESULT_DIR = '../results'\n",
    "FIG_DIR = f'{RESULT_DIR}/figs'\n",
    "os.makedirs(FIG_DIR, exist_ok=True)\n",
    "\n",
    "\n",
    "# Clean data import phase\n",
    "df = pd.read_csv(\"../data/dataCombined.csv\")\n",
    "df.head()"
   ]
  },
  {
   "cell_type": "code",
   "execution_count": null,
   "id": "89e59050",
   "metadata": {},
   "outputs": [],
   "source": [
    "# Constants for each section prefix\n",
    "DEMOGRAPHICS = \"D_\"\n",
    "USAGE = \"U_\"\n",
    "ADOPTION = \"A_\"\n",
    "FACTORS = \"F_\"\n",
    "PROJECT_DELIVERY = \"P_\"\n",
    "SUSTAINABILITY = \"S_\"\n",
    "BARRIERS = \"B_\"\n",
    "\n",
    "\n",
    "PLOT_PALATTE = [\"#003f5c\", \"#58508d\", \"#bc5090\", \"#ff6361\", \"#ffa600\"]"
   ]
  },
  {
   "cell_type": "code",
   "execution_count": null,
   "id": "9baddaf4",
   "metadata": {},
   "outputs": [],
   "source": [
    "# Frequency tables for categorical data\n",
    "demographic_cols = [col for col in df.columns if col.startswith(DEMOGRAPHICS)]\n",
    "usage_cols = [col for col in df.columns if col.startswith(USAGE)]\n",
    "\n",
    "for col in demographic_cols + usage_cols:\n",
    "    print(f\"\\n--- Frequency Table: {col} ---\")\n",
    "    print(df[col].value_counts().sort_index())"
   ]
  },
  {
   "cell_type": "markdown",
   "id": "bbdc0ae2",
   "metadata": {},
   "source": [
    "## Data summary"
   ]
  },
  {
   "cell_type": "code",
   "execution_count": null,
   "id": "7696cf6e",
   "metadata": {},
   "outputs": [],
   "source": [
    "likert_cols = [col for col in df.columns if col.startswith((ADOPTION, FACTORS, PROJECT_DELIVERY, SUSTAINABILITY, BARRIERS))]\n",
    "\n",
    "means = df[likert_cols].mean()\n",
    "medians = df[likert_cols].median()\n",
    "modes = df[likert_cols].mode().iloc[0]\n",
    "\n",
    "summary = pd.DataFrame({\n",
    "    'Mean': means,\n",
    "    'Median': medians,\n",
    "    'Mode': modes\n",
    "})\n",
    "\n",
    "summary.head(10)"
   ]
  },
  {
   "cell_type": "markdown",
   "id": "0f2911af",
   "metadata": {},
   "source": [
    "### Frequency plot function"
   ]
  },
  {
   "cell_type": "code",
   "execution_count": null,
   "id": "a2298ded",
   "metadata": {},
   "outputs": [],
   "source": [
    "def plot_categorical_distribution(\n",
    "    df, \n",
    "    column, \n",
    "    x_labels_dict,\n",
    "    x_label='Category', \n",
    "    y_label='Frequency', \n",
    "    title='Distribution', \n",
    "    filename='output.png',\n",
    "):\n",
    "        \n",
    "    categories_present = sorted(df[column].dropna().unique())\n",
    "\n",
    "    labels = [x_labels_dict[val] for val in categories_present]\n",
    "    palette = sns.color_palette(\"pastel\", n_colors=len(labels))\n",
    "\n",
    "    plt.figure(figsize=(8, 5))\n",
    "    ax = sns.countplot(x=column, data=df, order=categories_present, palette=palette)\n",
    "\n",
    "    ax.set_xticks(range(len(labels)))\n",
    "    ax.set_xticklabels(labels, fontsize=10)\n",
    "\n",
    "    plt.xlabel(x_label, fontsize=12)\n",
    "    plt.ylabel(y_label, fontsize=12)\n",
    "    plt.title(title, fontsize=14, weight='bold')\n",
    "\n",
    "    for p in ax.patches:\n",
    "        height = p.get_height()\n",
    "        ax.text(p.get_x() + p.get_width() / 2., height + 0.5,\n",
    "                int(height), ha=\"center\", fontsize=9)\n",
    "\n",
    "    plt.grid(axis='y', linestyle='--', alpha=0.7)\n",
    "    sns.despine()\n",
    "    plt.tight_layout()\n",
    "\n",
    "    plt.savefig(f\"{FIG_DIR}/{filename}\", dpi=300, bbox_inches='tight')\n",
    "    plt.show()\n",
    "    plt.close()"
   ]
  },
  {
   "cell_type": "markdown",
   "id": "a7cbd033",
   "metadata": {},
   "source": [
    "# Frequency plots for Demographic fields"
   ]
  },
  {
   "cell_type": "code",
   "execution_count": null,
   "id": "d56d4b44",
   "metadata": {},
   "outputs": [],
   "source": [
    "\n",
    "gender_labels_dict = {\n",
    "    1: \"Male\",\n",
    "    2: \"Female\"\n",
    "}\n",
    "plot_categorical_distribution(\n",
    "    df=df,\n",
    "    column=\"D_Gender\",\n",
    "    x_labels_dict=gender_labels_dict,\n",
    "    x_label=\"Gender\",\n",
    "    y_label=\"Number of Respondents\",\n",
    "    title=\"Gender Distribution\",\n",
    "    filename=\"gender_distribution.png\"\n",
    ")\n",
    "age_labels_dict = {\n",
    "    1: \"<20\", \n",
    "    2: \"21-30\", \n",
    "    3: \"31-40\", \n",
    "    4: \"41-50\", \n",
    "    5: \"Over 50\"\n",
    "}\n",
    "plot_categorical_distribution(\n",
    "    df=df,\n",
    "    column=\"D_Age\",\n",
    "    x_labels_dict=age_labels_dict,\n",
    "    x_label=\"Age Group\",\n",
    "    y_label=\"Number of Respondents\",\n",
    "    title=\"Age Distribution\",\n",
    "    filename=\"age_distribution.png\"\n",
    ")\n",
    "education_labels_dict = {\n",
    "    1: \"OND\",\n",
    "    2: \"B.Sc./HND\",\n",
    "    3: \"PGD\",\n",
    "    4: \"MSc.\",\n",
    "    5: \"Ph.D.\"\n",
    "}\n",
    "plot_categorical_distribution(\n",
    "    df=df,\n",
    "    column=\"D_Education\",\n",
    "    x_labels_dict=education_labels_dict,\n",
    "    x_label=\"Educational Qualification\",\n",
    "    y_label=\"Number of Respondents\",\n",
    "    title=\"Educational Qualification Distribution\",\n",
    "    filename=\"education_distribution.png\"\n",
    ")\n",
    "position_labels_dict = {\n",
    "    1: \"Junior Staff\",\n",
    "    2: \"Senior Staff\"\n",
    "}\n",
    "plot_categorical_distribution(\n",
    "    df=df,\n",
    "    column=\"D_Position\",\n",
    "    x_labels_dict=position_labels_dict,\n",
    "    x_label=\"Staff Position\",\n",
    "    y_label=\"Number of Respondents\",\n",
    "    title=\"Position Distribution\",\n",
    "    filename=\"position_distribution.png\"\n",
    ")\n",
    "experience_labels_dict = {\n",
    "    1: \"<5 years\",\n",
    "    2: \"6-10 years\",\n",
    "    3: \"11-15 years\",\n",
    "    4: \"16-20 years\",\n",
    "    5: \"Over 20 years\"\n",
    "}\n",
    "plot_categorical_distribution(\n",
    "    df=df,\n",
    "    column=\"D_Experience\",\n",
    "    x_labels_dict=experience_labels_dict,\n",
    "    x_label=\"Years of Experience\",\n",
    "    y_label=\"Number of Respondents\",\n",
    "    title=\"Experience Distribution\",\n",
    "    filename=\"experience_distribution.png\"\n",
    ")\n",
    "company_age_labels_dict = {\n",
    "    1: \"1-5 years\",\n",
    "    2: \"6-10 years\",\n",
    "    3: \"11-15 years\",\n",
    "    4: \"16-20 years\",\n",
    "    5: \"Over 20 years\"\n",
    "}\n",
    "plot_categorical_distribution(\n",
    "    df=df,\n",
    "    column=\"D_CompanyAge\",\n",
    "    x_labels_dict=company_age_labels_dict,\n",
    "    x_label=\"Company Age\",\n",
    "    y_label=\"Number of Respondents\",\n",
    "    title=\"Company Age Distribution\",\n",
    "    filename=\"company_age_distribution.png\"\n",
    ")\n",
    "employee_count_labels_dict = {\n",
    "    1: \"1-5\",\n",
    "    2: \"6-10\",\n",
    "    3: \"11-15\",\n",
    "    4: \"16-20\",\n",
    "    5: \"Above 20\"\n",
    "}\n",
    "plot_categorical_distribution(\n",
    "    df=df,\n",
    "    column=\"D_NumEmployees\",\n",
    "    x_labels_dict=employee_count_labels_dict,\n",
    "    x_label=\"Number of Employees\",\n",
    "    y_label=\"Number of Respondents\",\n",
    "    title=\"Employee Count Distribution\",\n",
    "    filename=\"employee_count_distribution.png\"\n",
    ")\n",
    "\n",
    "\n",
    "\n",
    "#Area plot for Usage fields\n",
    "usage_cols = [col for col in df.columns if col.startswith(USAGE)]\n",
    "\n",
    "usage_distribution = pd.DataFrame(index=range(1, 6))\n",
    "\n",
    "for col in usage_cols:\n",
    "    counts = df[col].value_counts().reindex(range(1, 6), fill_value=0)\n",
    "    usage_distribution[col] = counts\n",
    "\n",
    "plt.figure(figsize=(12, 6))\n",
    "for col in usage_distribution.columns:\n",
    "    plt.fill_between(usage_distribution.index, usage_distribution[col], alpha=0.15)\n",
    "    plt.plot(usage_distribution.index, usage_distribution[col], label=col)\n",
    "\n",
    "plt.title(\"Digital Technology Usage Distribution\", fontsize=14, weight='bold')\n",
    "plt.xlabel(\"Response Level (1 = Very High ... 5 = Very Low)\", fontsize=12)\n",
    "plt.ylabel(\"Number of Respondents\", fontsize=12)\n",
    "plt.xticks([1, 2, 3, 4, 5])\n",
    "plt.grid(True, linestyle='--', alpha=0.6)\n",
    "plt.legend(loc='upper right', fontsize=9)\n",
    "sns.despine()\n",
    "plt.tight_layout()\n",
    "\n",
    "plt.savefig(f\"{FIG_DIR}/usage_area_chart.png\", dpi=300, bbox_inches='tight')\n",
    "plt.show()\n",
    "plt.close()\n"
   ]
  },
  {
   "cell_type": "markdown",
   "id": "e30b4418",
   "metadata": {},
   "source": [
    "# Data Reliability and Validity\n",
    "### Cronbach’s Alpha for Reliability\n",
    "To access internal consistency of sections"
   ]
  },
  {
   "cell_type": "code",
   "execution_count": null,
   "id": "d38d73d4",
   "metadata": {},
   "outputs": [],
   "source": [
    "#data reliability and validity\n",
    "import pingouin as pg\n",
    "adoption_cols = [col for col in df.columns if col.startswith(ADOPTION)]\n",
    "project_delivery_cols = [col for col in df.columns if col.startswith(PROJECT_DELIVERY)]\n",
    "sustainability_cols = [col for col in df.columns if col.startswith(SUSTAINABILITY)]\n",
    "barriers_cols = [col for col in df.columns if col.startswith(BARRIERS)]\n",
    "\n",
    "\n",
    "a_alpha, a_ci = pg.cronbach_alpha(data=df[adoption_cols])\n",
    "p_alpha, p_ci = pg.cronbach_alpha(data=df[project_delivery_cols])\n",
    "s_alpha, s_ci = pg.cronbach_alpha(data=df[sustainability_cols])\n",
    "b_alpha, b_ci = pg.cronbach_alpha(data=df[barriers_cols])\n",
    "\n",
    "print(f\"Cronbach's alpha for adoption = {a_alpha:.3f} (95% CI: {a_ci[0]:.3f} - {a_ci[1]:.3f})\")\n",
    "print(f\"Cronbach's alpha for project delivery = {p_alpha:.3f} (95% CI: {p_ci[0]:.3f} - {p_ci[1]:.3f})\")\n",
    "print(f\"Cronbach's alpha for sustainability = {s_alpha:.3f} (95% CI: {s_ci[0]:.3f} - {s_ci[1]:.3f})\")\n",
    "print(f\"Cronbach's alpha for barriers = {b_alpha:.3f} (95% CI: {b_ci[0]:.3f} - {b_ci[1]:.3f})\")\n"
   ]
  },
  {
   "cell_type": "markdown",
   "id": "cfe3c08f",
   "metadata": {},
   "source": [
    "# Exploratory Factor Analysis (EFA)\n",
    "Exploratory Factor Analysis (EFA) is a key step in identifying underlying latent variables that explain the observed correlations between measured variables. We will use this to interpret the loadings."
   ]
  },
  {
   "cell_type": "code",
   "execution_count": null,
   "id": "05f089e3",
   "metadata": {},
   "outputs": [],
   "source": [
    "from factor_analyzer import FactorAnalyzer\n",
    "from sklearn.preprocessing import StandardScaler\n"
   ]
  },
  {
   "cell_type": "markdown",
   "id": "1471a600",
   "metadata": {},
   "source": [
    "### Factor Analysis Function"
   ]
  },
  {
   "cell_type": "code",
   "execution_count": null,
   "id": "ef7c972b",
   "metadata": {},
   "outputs": [],
   "source": [
    "def run_factor_analysis(df, cols, n_factors=5, rotation='varimax'):\n",
    "    scaler = StandardScaler()\n",
    "    scaled_data = scaler.fit_transform(df[cols])\n",
    "\n",
    "    fa = FactorAnalyzer(n_factors=n_factors, rotation=rotation)\n",
    "    fa.fit(scaled_data)\n",
    "\n",
    "    eigenvalues = fa.get_eigenvalues()\n",
    "    loadings = fa.loadings_\n",
    "\n",
    "    plt.figure(figsize=(8, 6))\n",
    "    plt.plot(range(1, len(eigenvalues) + 1), eigenvalues, marker='o', linestyle='--')\n",
    "    plt.title(f\"Scree Plot for {', '.join(cols)}\")\n",
    "    plt.xlabel('Factors')\n",
    "    plt.ylabel('Eigenvalue')\n",
    "    plt.grid(True)\n",
    "    plt.show()\n",
    "\n",
    "    loadings_df = pd.DataFrame(loadings, index=cols)\n",
    "    print(f'Factor Loadings for {\", \".join(cols)}:\\n', loadings_df)\n",
    "\n",
    "    return fa, loadings_df"
   ]
  },
  {
   "cell_type": "markdown",
   "id": "e8bfe49a",
   "metadata": {},
   "source": [
    "### Factor Analysis"
   ]
  },
  {
   "cell_type": "code",
   "execution_count": null,
   "id": "3a8fe243",
   "metadata": {},
   "outputs": [],
   "source": [
    "fa_adoption, loadings_adoption = run_factor_analysis(df, adoption_cols)\n",
    "fa_project_delivery, loadings_project_delivery = run_factor_analysis(df, project_delivery_cols)\n",
    "fa_sustainability, loadings_sustainability = run_factor_analysis(df, sustainability_cols)\n",
    "fa_barriers, loadings_barriers = run_factor_analysis(df, barriers_cols)"
   ]
  },
  {
   "cell_type": "markdown",
   "id": "a72870be",
   "metadata": {},
   "source": [
    "## Principal Component Analysis (PCA)\n",
    "PCA reduces the dimensionality of the data while retaining as much variance as possible"
   ]
  },
  {
   "cell_type": "code",
   "execution_count": null,
   "id": "cca5c411",
   "metadata": {},
   "outputs": [],
   "source": [
    "from sklearn.decomposition import PCA"
   ]
  },
  {
   "cell_type": "markdown",
   "id": "bd526977",
   "metadata": {},
   "source": [
    "### PCA function"
   ]
  },
  {
   "cell_type": "code",
   "execution_count": null,
   "id": "54e8d018",
   "metadata": {},
   "outputs": [],
   "source": [
    "def run_pca(df, cols, n_components=5):\n",
    "    scaler = StandardScaler()\n",
    "    scaled_data = scaler.fit_transform(df[cols])\n",
    "\n",
    "    pca = PCA(n_components=n_components)\n",
    "    pca_result = pca.fit_transform(scaled_data)\n",
    "\n",
    "    explained_variance = pca.explained_variance_ratio_\n",
    "    plt.figure(figsize=(8, 6))\n",
    "    plt.plot(range(1, len(explained_variance) + 1), explained_variance, marker='o', linestyle='--')\n",
    "    plt.title(f\"Explained Variance by Principal Components for {', '.join(cols)}\")\n",
    "    plt.xlabel('Principal Components')\n",
    "    plt.ylabel('Explained Variance Ratio')\n",
    "    plt.grid(True)\n",
    "    plt.show()\n",
    "\n",
    "    return pca, explained_variance, pca_result\n"
   ]
  },
  {
   "cell_type": "markdown",
   "id": "a80012d9",
   "metadata": {},
   "source": [
    "### PCA's"
   ]
  },
  {
   "cell_type": "code",
   "execution_count": null,
   "id": "645779e1",
   "metadata": {},
   "outputs": [],
   "source": [
    "pca_adoption, explained_variance_adoption, pca_result_adoption = run_pca(df, adoption_cols)\n",
    "pca_project_delivery, explained_variance_project_delivery, pca_result_project_delivery = run_pca(df, project_delivery_cols)\n",
    "pca_sustainability, explained_variance_sustainability, pca_result_sustainability = run_pca(df, sustainability_cols)\n",
    "pca_barriers, explained_variance_barriers, pca_result_barriers = run_pca(df, barriers_cols)"
   ]
  },
  {
   "cell_type": "markdown",
   "id": "77ee713d",
   "metadata": {},
   "source": [
    "### Factor Loadings Visualization"
   ]
  },
  {
   "cell_type": "code",
   "execution_count": null,
   "id": "3d55cfd1",
   "metadata": {},
   "outputs": [],
   "source": [
    "def plot_factor_loadings(loadings_df, title='Factor Loadings'):\n",
    "    plt.figure(figsize=(10, min(0.5 * len(loadings_df), 12)))\n",
    "    sns.heatmap(loadings_df, annot=True, cmap='coolwarm', center=0, fmt=\".2f\")\n",
    "    plt.title(title, fontsize=14, weight='bold')\n",
    "    plt.xlabel(\"Factors\")\n",
    "    plt.ylabel(\"Items\")\n",
    "    plt.tight_layout()\n",
    "    plt.show()\n",
    "\n",
    "plot_factor_loadings(loadings_adoption, title=\"Adoption - Factor Loadings\")\n",
    "plot_factor_loadings(loadings_project_delivery, title=\"Project delivery - Factor Loadings\")\n",
    "plot_factor_loadings(loadings_sustainability, title=\"Sustainability - Factor Loadings\")\n",
    "plot_factor_loadings(loadings_barriers, title=\"Barriers - Factor Loadings\")"
   ]
  },
  {
   "cell_type": "markdown",
   "id": "eed6cd8c",
   "metadata": {},
   "source": [
    "### PCA Biplot for 2D Projection"
   ]
  },
  {
   "cell_type": "code",
   "execution_count": null,
   "id": "291e56a3",
   "metadata": {},
   "outputs": [],
   "source": [
    "def pca_biplot(pca, components, features, labels=None, title='PCA Biplot'):\n",
    "    plt.figure(figsize=(10, 7))\n",
    "    \n",
    "    plt.scatter(components[:, 0], components[:, 1], alpha=0.5, label='Respondents')\n",
    "    \n",
    "    feature_vectors = pca.components_[:2].T \n",
    "    for i, v in enumerate(feature_vectors):\n",
    "        plt.arrow(0, 0, v[0]*3, v[1]*3, \n",
    "                  color='r', alpha=0.5, head_width=0.05)\n",
    "        plt.text(v[0]*3.2, v[1]*3.2, labels[i] if labels else f\"Var{i+1}\", \n",
    "                 color='black', fontsize=9)\n",
    "\n",
    "    plt.axhline(0, linestyle='--', color='gray', linewidth=0.5)\n",
    "    plt.axvline(0, linestyle='--', color='gray', linewidth=0.5)\n",
    "    plt.xlabel(\"Principal Component 1\")\n",
    "    plt.ylabel(\"Principal Component 2\")\n",
    "    plt.title(title, fontsize=14, weight='bold')\n",
    "    plt.grid(True, linestyle='--', alpha=0.5)\n",
    "    plt.tight_layout()\n",
    "    plt.show()\n",
    "    \n",
    "pca_biplot(\n",
    "    pca=pca_adoption,\n",
    "    components=pca_result_adoption,\n",
    "    features=adoption_cols,\n",
    "    labels=adoption_cols,\n",
    "    title=\"PCA Biplot - Adoption\"\n",
    ")\n",
    "\n",
    "pca_biplot(\n",
    "    pca=pca_project_delivery,\n",
    "    components=pca_result_project_delivery,\n",
    "    features=project_delivery_cols,\n",
    "    labels=project_delivery_cols,\n",
    "    title=\"PCA Biplot - Project delivery\"\n",
    ")\n",
    "\n",
    "pca_biplot(\n",
    "    pca=pca_sustainability,\n",
    "    components=pca_result_sustainability,\n",
    "    features=sustainability_cols,\n",
    "    labels=sustainability_cols,\n",
    "    title=\"PCA Biplot - Sustainability\"\n",
    ")\n",
    "\n",
    "pca_biplot(\n",
    "    pca=pca_barriers,\n",
    "    components=pca_result_barriers,\n",
    "    features=barriers_cols,\n",
    "    labels=barriers_cols,\n",
    "    title=\"PCA Biplot - Barriers\"\n",
    ")\n"
   ]
  },
  {
   "cell_type": "markdown",
   "id": "650ff334",
   "metadata": {},
   "source": [
    "# 6 Inferential Statistics"
   ]
  },
  {
   "cell_type": "markdown",
   "id": "9f3620aa",
   "metadata": {},
   "source": [
    "### 6.1 Correlation Analysis — Adoption, Sustainability, Delivery"
   ]
  },
  {
   "cell_type": "code",
   "execution_count": null,
   "id": "3866dbd5",
   "metadata": {},
   "outputs": [],
   "source": [
    "df[\"Adoption_Avg\"] = df[adoption_cols].mean(axis=1)\n",
    "df[\"Sustainability_Avg\"] = df[sustainability_cols].mean(axis=1)\n",
    "df[\"Delivery_Avg\"] = df[project_delivery_cols].mean(axis=1)\n",
    "\n",
    "\n",
    "corr_matrix = df[[\"Adoption_Avg\", \"Sustainability_Avg\", \"Delivery_Avg\"]].corr()\n",
    "print(corr_matrix)\n",
    "\n",
    "\n",
    "sns.heatmap(corr_matrix, annot=True, cmap=\"coolwarm\", vmin=-1, vmax=1)\n",
    "plt.title(\"Correlation Matrix: Adoption, Sustainability, Delivery\")\n",
    "plt.show()"
   ]
  },
  {
   "cell_type": "markdown",
   "id": "f4c22f8f",
   "metadata": {},
   "source": [
    "### 6.2 Group Comparisons - T-Tests or ANOVA\n",
    "Test if adoption levels differ significantly between:\n",
    "    - staff positions (`D_Position`)\n",
    "    - Years of experience (`D_Experience`)"
   ]
  },
  {
   "cell_type": "code",
   "execution_count": null,
   "id": "7d08eafb",
   "metadata": {},
   "outputs": [],
   "source": [
    "from scipy.stats import ttest_ind\n",
    "import statsmodels.api as sm\n",
    "from statsmodels.formula.api import ols\n",
    "\n",
    "junior = df[df[\"D_Position\"] == 1][\"Adoption_Avg\"]\n",
    "senior = df[df[\"D_Position\"] == 2][\"Adoption_Avg\"]\n",
    "\n",
    "t_stat, p_val = ttest_ind(junior, senior, equal_var=False)\n",
    "print(f\"T-test (Position): t={t_stat:.3f}, p={p_val:.3f}\")\n",
    "\n",
    "\n",
    "anova = ols('Adoption_Avg ~ C(D_Experience)', data=df).fit()\n",
    "anova_table = sm.stats.anova_lm(anova, typ=2)\n",
    "print(anova_table)"
   ]
  },
  {
   "cell_type": "markdown",
   "id": "8f3cb77c",
   "metadata": {},
   "source": [
    "### 6.3 Multiple Regression — Predicting Delivery from Adoption\n",
    "Use adoption score to predict project delivery performance."
   ]
  },
  {
   "cell_type": "code",
   "execution_count": null,
   "id": "13b7a8fe",
   "metadata": {},
   "outputs": [],
   "source": [
    "# Independent variables\n",
    "X = df[[\"Adoption_Avg\"]]\n",
    "X = sm.add_constant(X)\n",
    "\n",
    "# Dependent variable\n",
    "y = df[\"Delivery_Avg\"]\n",
    "\n",
    "# Fit regression model\n",
    "model = sm.OLS(y, X).fit()\n",
    "print(model.summary())\n",
    "\n",
    "\n",
    "# with demographic controls\n",
    "\n",
    "X = df[[\"Adoption_Avg\", \"D_Position\", \"D_Experience\"]]\n",
    "X = sm.add_constant(X)\n",
    "model_with_controls = sm.OLS(y, X).fit()\n",
    "print(model_with_controls.summary())"
   ]
  }
 ],
 "metadata": {
  "kernelspec": {
   "display_name": "venv",
   "language": "python",
   "name": "python3"
  },
  "language_info": {
   "codemirror_mode": {
    "name": "ipython",
    "version": 3
   },
   "file_extension": ".py",
   "mimetype": "text/x-python",
   "name": "python",
   "nbconvert_exporter": "python",
   "pygments_lexer": "ipython3",
   "version": "3.11.9"
  }
 },
 "nbformat": 4,
 "nbformat_minor": 5
}
